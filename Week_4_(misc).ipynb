{
  "nbformat": 4,
  "nbformat_minor": 0,
  "metadata": {
    "colab": {
      "provenance": [],
      "authorship_tag": "ABX9TyO6rQaoWVD6aOW+kSuDSDy4",
      "include_colab_link": true
    },
    "kernelspec": {
      "name": "python3",
      "display_name": "Python 3"
    },
    "language_info": {
      "name": "python"
    }
  },
  "cells": [
    {
      "cell_type": "markdown",
      "metadata": {
        "id": "view-in-github",
        "colab_type": "text"
      },
      "source": [
        "<a href=\"https://colab.research.google.com/github/GowithSubha/dumy/blob/master/Week_4_(misc).ipynb\" target=\"_parent\"><img src=\"https://colab.research.google.com/assets/colab-badge.svg\" alt=\"Open In Colab\"/></a>"
      ]
    },
    {
      "cell_type": "markdown",
      "source": [
        "# 1. Write a Java program to implement Queue using array.\n"
      ],
      "metadata": {
        "id": "CpYVvgEkgsD4"
      }
    },
    {
      "cell_type": "code",
      "execution_count": null,
      "metadata": {
        "colab": {
          "base_uri": "https://localhost:8080/"
        },
        "id": "am0xQfTtgfP5",
        "outputId": "45aa8703-8ce4-4559-abe1-17b86131755a"
      },
      "outputs": [
        {
          "output_type": "stream",
          "name": "stdout",
          "text": [
            "Enter the capacity of the queue: 3\n",
            "\n",
            "Queue Operations:\n",
            "1. Enqueue\n",
            "2. Dequeue\n",
            "3. Peek\n",
            "4. Display\n",
            "5. Exit\n",
            "Enter your choice (1-5): 1\n",
            "Enter the item to enqueue: 23\n",
            "Enqueued 23 into the queue.\n",
            "\n",
            "Queue Operations:\n",
            "1. Enqueue\n",
            "2. Dequeue\n",
            "3. Peek\n",
            "4. Display\n",
            "5. Exit\n",
            "Enter your choice (1-5): 1\n",
            "Enter the item to enqueue: 52\n",
            "Enqueued 52 into the queue.\n",
            "\n",
            "Queue Operations:\n",
            "1. Enqueue\n",
            "2. Dequeue\n",
            "3. Peek\n",
            "4. Display\n",
            "5. Exit\n",
            "Enter your choice (1-5): 4\n",
            "Queue elements:\n",
            "23 52 \n",
            "\n",
            "Queue Operations:\n",
            "1. Enqueue\n",
            "2. Dequeue\n",
            "3. Peek\n",
            "4. Display\n",
            "5. Exit\n",
            "Enter your choice (1-5): 3\n",
            "Front item: 23\n",
            "\n",
            "Queue Operations:\n",
            "1. Enqueue\n",
            "2. Dequeue\n",
            "3. Peek\n",
            "4. Display\n",
            "5. Exit\n",
            "Enter your choice (1-5): 5\n",
            "Exiting...\n"
          ]
        }
      ],
      "source": [
        "# Write a program to implement Queue using array.\n",
        "class Queue:\n",
        "    def __init__(self, capacity):\n",
        "        self.capacity = capacity\n",
        "        self.queue = [None] * capacity\n",
        "        self.front = 0\n",
        "        self.rear = -1\n",
        "        self.size = 0\n",
        "\n",
        "    def is_empty(self):\n",
        "        return self.size == 0\n",
        "\n",
        "    def is_full(self):\n",
        "        return self.size == self.capacity\n",
        "\n",
        "    def enqueue(self, item):\n",
        "        if self.is_full():\n",
        "            print(\"Queue is full! Cannot enqueue item.\")\n",
        "        else:\n",
        "            self.rear = (self.rear + 1) % self.capacity\n",
        "            self.queue[self.rear] = item\n",
        "            self.size += 1\n",
        "            print(f\"Enqueued {item} into the queue.\")\n",
        "\n",
        "    def dequeue(self):\n",
        "        if self.is_empty():\n",
        "            print(\"Queue is empty! Cannot dequeue item.\")\n",
        "            return None\n",
        "        else:\n",
        "            item = self.queue[self.front]\n",
        "            self.queue[self.front] = None\n",
        "            self.front = (self.front + 1) % self.capacity\n",
        "            self.size -= 1\n",
        "            return item\n",
        "\n",
        "    def peek(self):\n",
        "        if self.is_empty():\n",
        "            print(\"Queue is empty! No item to peek.\")\n",
        "            return None\n",
        "        else:\n",
        "            return self.queue[self.front]\n",
        "\n",
        "    def display(self):\n",
        "        if self.is_empty():\n",
        "            print(\"Queue is empty.\")\n",
        "        else:\n",
        "            print(\"Queue elements:\")\n",
        "            index = self.front\n",
        "            for _ in range(self.size):\n",
        "                print(self.queue[index], end=' ')\n",
        "                index = (index + 1) % self.capacity\n",
        "            print()\n",
        "\n",
        "def main():\n",
        "    capacity = int(input(\"Enter the capacity of the queue: \"))\n",
        "    queue = Queue(capacity)\n",
        "\n",
        "    while True:\n",
        "        print(\"\\nQueue Operations:\")\n",
        "        print(\"1. Enqueue\")\n",
        "        print(\"2. Dequeue\")\n",
        "        print(\"3. Peek\")\n",
        "        print(\"4. Display\")\n",
        "        print(\"5. Exit\")\n",
        "\n",
        "        choice = input(\"Enter your choice (1-5): \")\n",
        "\n",
        "        if choice == '1':\n",
        "            item = int(input(\"Enter the item to enqueue: \"))\n",
        "            queue.enqueue(item)\n",
        "        elif choice == '2':\n",
        "            dequeued_item = queue.dequeue()\n",
        "            if dequeued_item is not None:\n",
        "                print(f\"Dequeued item: {dequeued_item}\")\n",
        "        elif choice == '3':\n",
        "            front_item = queue.peek()\n",
        "            if front_item is not None:\n",
        "                print(f\"Front item: {front_item}\")\n",
        "        elif choice == '4':\n",
        "            queue.display()\n",
        "        elif choice == '5':\n",
        "            print(\"Exiting...\")\n",
        "            break\n",
        "        else:\n",
        "            print(\"Invalid choice! Please enter a number between 1 and 5.\")\n",
        "\n",
        "if __name__ == \"__main__\":\n",
        "    main()\n"
      ]
    },
    {
      "cell_type": "markdown",
      "source": [
        "# 2. Write a program to calculate Sum of two 2-dimensional arrays.\n"
      ],
      "metadata": {
        "id": "_-I-ox-yjZSm"
      }
    },
    {
      "cell_type": "code",
      "source": [
        "# 2. Write a program to calculate Sum of two 2-dimensional arrays.\n",
        "def add_matrices(matrix1, matrix2):\n",
        "    \"\"\"Add two 2-dimensional matrices.\"\"\"\n",
        "    if len(matrix1) != len(matrix2) or any(len(row1) != len(row2) for row1, row2 in zip(matrix1, matrix2)):\n",
        "        raise ValueError(\"Matrices must have the same dimensions.\")\n",
        "\n",
        "    result = [[0 for _ in range(len(matrix1[0]))] for _ in range(len(matrix1))]\n",
        "\n",
        "    for i in range(len(matrix1)):\n",
        "        for j in range(len(matrix1[i])):\n",
        "            result[i][j] = matrix1[i][j] + matrix2[i][j]\n",
        "\n",
        "    return result\n",
        "\n",
        "def main():\n",
        "    rows = int(input(\"Enter the number of rows: \"))\n",
        "    cols = int(input(\"Enter the number of columns: \"))\n",
        "\n",
        "    print(\"Enter the elements of the first matrix:\")\n",
        "    matrix1 = []\n",
        "    for i in range(rows):\n",
        "        row = list(map(int, input(f\"Enter row {i + 1} (space-separated values): \").split()))\n",
        "        matrix1.append(row)\n",
        "\n",
        "    print(\"Enter the elements of the second matrix:\")\n",
        "    matrix2 = []\n",
        "    for i in range(rows):\n",
        "        row = list(map(int, input(f\"Enter row {i + 1} (space-separated values): \").split()))\n",
        "        matrix2.append(row)\n",
        "\n",
        "    result = add_matrices(matrix1, matrix2)\n",
        "\n",
        "    print(\"Sum of the two matrices:\")\n",
        "    for row in result:\n",
        "        print('\\t'.join(map(str, row)))\n",
        "\n",
        "if __name__ == \"__main__\":\n",
        "    main()\n"
      ],
      "metadata": {
        "colab": {
          "base_uri": "https://localhost:8080/"
        },
        "id": "JkZNV32CjkYv",
        "outputId": "f7bf325c-bb5a-4973-cc70-256e466cccc1"
      },
      "execution_count": null,
      "outputs": [
        {
          "output_type": "stream",
          "name": "stdout",
          "text": [
            "Enter the number of rows: 2\n",
            "Enter the number of columns: 3\n",
            "Enter the elements of the first matrix:\n",
            "Enter row 1 (space-separated values): 1 2 3\n",
            "Enter row 2 (space-separated values): 4 5 6\n",
            "Enter the elements of the second matrix:\n",
            "Enter row 1 (space-separated values): 1 2 3\n",
            "Enter row 2 (space-separated values): 4 5 6\n",
            "Sum of the two matrices:\n",
            "2\t4\t6\n",
            "8\t10\t12\n"
          ]
        }
      ]
    },
    {
      "cell_type": "markdown",
      "source": [
        "# 3. Write a Java program to find the range of a 1D array.\n"
      ],
      "metadata": {
        "id": "mpcs9tdrkQqw"
      }
    },
    {
      "cell_type": "code",
      "source": [
        "# 3. Write a Java program to find the range of a 1D array.\n",
        "def find_range(arr):\n",
        "    return max(arr) - min(arr)\n",
        "\n",
        "arr = [10, 15, 7, 22, 13]\n",
        "print(f\"Range of the array: {find_range(arr)}\")\n"
      ],
      "metadata": {
        "colab": {
          "base_uri": "https://localhost:8080/"
        },
        "id": "-GObLKL5kjAH",
        "outputId": "6523104c-28f1-4acf-dbc7-6686fe2decca"
      },
      "execution_count": null,
      "outputs": [
        {
          "output_type": "stream",
          "name": "stdout",
          "text": [
            "Range of the array: 15\n"
          ]
        }
      ]
    },
    {
      "cell_type": "markdown",
      "source": [
        "# 4. Write a Java program to search an element in an array.\n"
      ],
      "metadata": {
        "id": "IC9XjlzLkxb1"
      }
    },
    {
      "cell_type": "code",
      "source": [
        "# 4. Write a Java program to search an element in an array.\n",
        "def search_element(arr, element):\n",
        "    if element in arr:\n",
        "        return arr.index(element)\n",
        "    return -1\n",
        "\n",
        "def main():\n",
        "    arr = list(map(int, input(\"Enter integers for the array separated by spaces: \").split()))\n",
        "    element = int(input(\"Enter the element to search for: \"))\n",
        "    index = search_element(arr, element)\n",
        "    if index != -1:\n",
        "        print(f\"Element {element} found at index {index}.\")\n",
        "    else:\n",
        "        print(f\"Element {element} not found in the array.\")\n",
        "\n",
        "if __name__ == \"__main__\":\n",
        "    main()\n"
      ],
      "metadata": {
        "colab": {
          "base_uri": "https://localhost:8080/"
        },
        "id": "OpHt-ex5k3M-",
        "outputId": "a19fcf9b-f02c-412e-e849-d87e9580bfd5"
      },
      "execution_count": null,
      "outputs": [
        {
          "output_type": "stream",
          "name": "stdout",
          "text": [
            "Enter integers for the array separated by spaces: 2 3 4 5 6\n",
            "Enter the element to search for: 2\n",
            "Element 2 found at index 0.\n"
          ]
        }
      ]
    },
    {
      "cell_type": "markdown",
      "source": [
        "# 5. Write a Java program to find the sum of even numbers in an integer array.\n"
      ],
      "metadata": {
        "id": "nzeurYJZlJfm"
      }
    },
    {
      "cell_type": "code",
      "source": [
        "# 5. Write a Java program to find the sum of even numbers in an integer array.\n",
        "def sum_of_even_numbers(arr):\n",
        "    return sum(x for x in arr if x % 2 == 0)\n",
        "\n",
        "def main():\n",
        "    arr = list(map(int, input(\"Enter integers for the array separated by spaces: \").split()))\n",
        "    print(f\"Sum of even numbers: {sum_of_even_numbers(arr)}\")\n",
        "\n",
        "if __name__ == \"__main__\":\n",
        "    main()\n"
      ],
      "metadata": {
        "colab": {
          "base_uri": "https://localhost:8080/"
        },
        "id": "reR_YEKTlMuh",
        "outputId": "f9307995-6816-4ad5-88dc-2324911df59f"
      },
      "execution_count": null,
      "outputs": [
        {
          "output_type": "stream",
          "name": "stdout",
          "text": [
            "Enter integers for the array separated by spaces: 1 2 4 3 8 9 11\n",
            "Sum of even numbers: 14\n"
          ]
        }
      ]
    },
    {
      "cell_type": "markdown",
      "source": [
        "# 6. Write a Java program to find the sum of diagonal elements in a 2D array.\n"
      ],
      "metadata": {
        "id": "flIf96N7mobL"
      }
    },
    {
      "cell_type": "code",
      "source": [
        "# 6. Write a Java program to find the sum of diagonal elements in a 2D array.\n",
        "def sum_of_diagonals(matrix):\n",
        "    primary_diagonal = sum(matrix[i][i] for i in range(len(matrix)))\n",
        "    secondary_diagonal = sum(matrix[i][len(matrix)-1-i] for i in range(len(matrix)))\n",
        "    return primary_diagonal + secondary_diagonal\n",
        "\n",
        "def main():\n",
        "    n = int(input(\"Enter the size of the square matrix (n x n): \"))\n",
        "    matrix = []\n",
        "    print(\"Enter the matrix row by row:\")\n",
        "    for _ in range(n):\n",
        "        row = list(map(int, input().split()))\n",
        "        matrix.append(row)\n",
        "    print(f\"Sum of diagonal elements: {sum_of_diagonals(matrix)}\")\n",
        "\n",
        "if __name__ == \"__main__\":\n",
        "    main()\n",
        "3"
      ],
      "metadata": {
        "colab": {
          "base_uri": "https://localhost:8080/"
        },
        "id": "q9mubvJKmvcX",
        "outputId": "3afe3fda-7215-4a64-ff07-8319b23e9195"
      },
      "execution_count": null,
      "outputs": [
        {
          "output_type": "stream",
          "name": "stdout",
          "text": [
            "Enter the size of the square matrix (n x n): 3\n",
            "Enter the matrix row by row:\n",
            "1 2 3\n",
            "4 5 6\n",
            "7 8 9\n",
            "Sum of diagonal elements: 30\n"
          ]
        }
      ]
    },
    {
      "cell_type": "markdown",
      "source": [
        "\n",
        "# 7. Reverse the elements in an array of integers without using a second array.\n"
      ],
      "metadata": {
        "id": "AsCa9BxznN-g"
      }
    },
    {
      "cell_type": "code",
      "source": [
        "# 7. Reverse the elements in an array of integers without using a second array.\n",
        "def reverse_array(arr):\n",
        "    left, right = 0, len(arr) - 1\n",
        "    while left < right:\n",
        "        arr[left], arr[right] = arr[right], arr[left]\n",
        "        left += 1\n",
        "        right -= 1\n",
        "\n",
        "def main():\n",
        "    arr = list(map(int, input(\"Enter integers for the array separated by spaces: \").split()))\n",
        "    reverse_array(arr)\n",
        "    print(f\"Reversed array: {' '.join(map(str, arr))}\")\n",
        "\n",
        "if __name__ == \"__main__\":\n",
        "    main()\n"
      ],
      "metadata": {
        "colab": {
          "base_uri": "https://localhost:8080/"
        },
        "id": "msxVtwKsnbgH",
        "outputId": "3701c3c4-a408-4db7-aa7a-a3b90c2018e0"
      },
      "execution_count": null,
      "outputs": [
        {
          "output_type": "stream",
          "name": "stdout",
          "text": [
            "Enter integers for the array separated by spaces: 1 2 3\n",
            "Reversed array: 3 2 1\n"
          ]
        }
      ]
    },
    {
      "cell_type": "markdown",
      "source": [
        "\n",
        "# 8. Write a Java program to enter n elements in an array and find smallest number among them.\n"
      ],
      "metadata": {
        "id": "G6PyLlHvnqNf"
      }
    },
    {
      "cell_type": "code",
      "source": [
        "# 8. Write a Java program to enter n elements in an array and find smallest number among them.\n",
        "def find_smallest_number(arr):\n",
        "    if not arr:\n",
        "        return None\n",
        "    smallest = arr[0]\n",
        "    for num in arr:\n",
        "        if num < smallest:\n",
        "            smallest = num\n",
        "    return smallest\n",
        "\n",
        "arr = list(map(int, input(\"Enter integers for the array separated by spaces: \").split()))\n",
        "smallest_number = find_smallest_number(arr)\n",
        "if smallest_number is not None:\n",
        "    print(f\"Smallest number in the array: {smallest_number}\")"
      ],
      "metadata": {
        "colab": {
          "base_uri": "https://localhost:8080/"
        },
        "id": "xN5ODIMMnv0t",
        "outputId": "1a0d6d43-a0fb-4fdd-bcc6-0f78ef2e593f"
      },
      "execution_count": null,
      "outputs": [
        {
          "output_type": "stream",
          "name": "stdout",
          "text": [
            "Enter integers for the array separated by spaces: 2 5 0 3 2\n",
            "Smallest number in the array: 0\n"
          ]
        }
      ]
    },
    {
      "cell_type": "markdown",
      "source": [
        "\n",
        "# 9. Write Java program to find the sum of all odd numbers in a 2D array.\n"
      ],
      "metadata": {
        "id": "fgeQjc8Gn6tK"
      }
    },
    {
      "cell_type": "code",
      "source": [
        "# 9. Write Java program to find the sum of all odd numbers in a 2D array.\n",
        "\n",
        "def sum_of_odd_numbers(matrix):\n",
        "    return sum(x for row in matrix for x in row if x % 2 != 0)\n",
        "\n",
        "def main():\n",
        "    n = int(input(\"Enter the number of rows for the matrix: \"))\n",
        "    m = int(input(\"Enter the number of columns for the matrix: \"))\n",
        "    matrix = []\n",
        "    print(\"Enter the matrix row by row:\")\n",
        "    for _ in range(n):\n",
        "        row = list(map(int, input().split()))\n",
        "        matrix.append(row)\n",
        "    print(f\"Sum of odd numbers: {sum_of_odd_numbers(matrix)}\")\n",
        "\n",
        "if __name__ == \"__main__\":\n",
        "    main()\n"
      ],
      "metadata": {
        "colab": {
          "base_uri": "https://localhost:8080/"
        },
        "id": "PhaQDhMZoBiN",
        "outputId": "215b896c-37d9-4ee5-fc59-b183254f74c9"
      },
      "execution_count": null,
      "outputs": [
        {
          "output_type": "stream",
          "name": "stdout",
          "text": [
            "Enter the number of rows for the matrix: 2\n",
            "Enter the number of columns for the matrix: 3\n",
            "Enter the matrix row by row:\n",
            "1 2 3\n",
            "4 5 6\n",
            "Sum of odd numbers: 9\n"
          ]
        }
      ]
    },
    {
      "cell_type": "markdown",
      "source": [
        "# 10. Write a Java program to print transpose of matrix."
      ],
      "metadata": {
        "id": "N5sMg2_woe86"
      }
    },
    {
      "cell_type": "code",
      "source": [
        "# 10. Write a Java program to print transpose of matrix.\n",
        "def transpose_matrix(matrix):\n",
        "    return list(zip(*matrix))\n",
        "\n",
        "def main():\n",
        "    n = int(input(\"Enter the number of rows for the matrix: \"))\n",
        "    m = int(input(\"Enter the number of columns for the matrix: \"))\n",
        "    matrix = []\n",
        "    print(\"Enter the matrix row by row:\")\n",
        "    for _ in range(n):\n",
        "        row = list(map(int, input().split()))\n",
        "        matrix.append(row)\n",
        "    transposed = transpose_matrix(matrix)\n",
        "    print(\"Transpose of the matrix:\")\n",
        "    for row in transposed:\n",
        "        print('\\t'.join(map(str, row)))\n",
        "\n",
        "if __name__ == \"__main__\":\n",
        "    main()\n"
      ],
      "metadata": {
        "colab": {
          "base_uri": "https://localhost:8080/"
        },
        "id": "oNcKEc2soi6h",
        "outputId": "8763051a-dd26-4b96-cfb2-bc7f0efbd2c1"
      },
      "execution_count": null,
      "outputs": [
        {
          "output_type": "stream",
          "name": "stdout",
          "text": [
            "Enter the number of rows for the matrix: 3\n",
            "Enter the number of columns for the matrix: 3\n",
            "Enter the matrix row by row:\n",
            "1 2 3\n",
            "4 5 6\n",
            "7 8 9\n",
            "Transpose of the matrix:\n",
            "1\t4\t7\n",
            "2\t5\t8\n",
            "3\t6\t9\n"
          ]
        }
      ]
    }
  ]
}