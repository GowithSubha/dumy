{
  "nbformat": 4,
  "nbformat_minor": 0,
  "metadata": {
    "colab": {
      "provenance": [],
      "authorship_tag": "ABX9TyP0d16gupv4wel3AGh6kfD+",
      "include_colab_link": true
    },
    "kernelspec": {
      "name": "python3",
      "display_name": "Python 3"
    },
    "language_info": {
      "name": "python"
    }
  },
  "cells": [
    {
      "cell_type": "markdown",
      "metadata": {
        "id": "view-in-github",
        "colab_type": "text"
      },
      "source": [
        "<a href=\"https://colab.research.google.com/github/GowithSubha/dumy/blob/master/Week_3_(misc).ipynb\" target=\"_parent\"><img src=\"https://colab.research.google.com/assets/colab-badge.svg\" alt=\"Open In Colab\"/></a>"
      ]
    },
    {
      "cell_type": "markdown",
      "source": [
        "# 1. Write a Java program to find median of a set of numbers."
      ],
      "metadata": {
        "id": "Gw14bK5bKW4T"
      }
    },
    {
      "cell_type": "code",
      "execution_count": null,
      "metadata": {
        "colab": {
          "base_uri": "https://localhost:8080/"
        },
        "id": "-w6_0vmQJyEo",
        "outputId": "551c7606-d341-4b7a-983b-91080d9ca97d"
      },
      "outputs": [
        {
          "output_type": "stream",
          "name": "stdout",
          "text": [
            "Enter numbers separated by spaces: 5 32 65 2 9\n",
            "The median is: 9.0\n"
          ]
        }
      ],
      "source": [
        "# Write a Java program to find median of a set of numbers.\n",
        "\n",
        "def median(numbers):\n",
        "    sorted_numbers = sorted(numbers)\n",
        "    n = len(sorted_numbers)\n",
        "\n",
        "    if n % 2 == 0:\n",
        "        mid1, mid2 = sorted_numbers[n // 2 - 1], sorted_numbers[n // 2]\n",
        "        median = (mid1 + mid2) / 2.0\n",
        "    else:\n",
        "        median = sorted_numbers[n // 2]\n",
        "\n",
        "    return median\n",
        "\n",
        "def main():\n",
        "    numbers = list(map(float, input(\"Enter numbers separated by spaces: \").split()))\n",
        "    m = median(numbers)\n",
        "    print(f\"The median is: {m}\")\n",
        "\n",
        "if __name__ == \"__main__\":\n",
        "    main()\n"
      ]
    },
    {
      "cell_type": "markdown",
      "source": [
        "# 2. Write a program to compute the value of Euler’s number that is used as the base of natural logarithms. Use the following formula.\n",
        "```\n",
        "e= 1+ 1/1! +1 /2! + 1/3+................ 1/n!\n",
        "```"
      ],
      "metadata": {
        "id": "wXIWDP6ALQJw"
      }
    },
    {
      "cell_type": "code",
      "source": [
        "# 2. Write a program to compute the value of Euler’s number that is used as the base of natural logarithms. Use the following formula.\n",
        "\n",
        "def factorial(n):\n",
        "    if n == 0:\n",
        "        return 1\n",
        "    else:\n",
        "        return n * factorial(n - 1)\n",
        "\n",
        "def euler_number(n):\n",
        "    e = 1\n",
        "    for i in range(1, n + 1):\n",
        "        e += 1 / factorial(i)\n",
        "    return e\n",
        "\n",
        "n = int(input(\"Enter the value of n: \"))\n",
        "e = euler_number(n)\n",
        "print(f\"The value of Euler's number with n = {n} is: {e}\")\n"
      ],
      "metadata": {
        "colab": {
          "base_uri": "https://localhost:8080/"
        },
        "id": "aD7NQl-ULa8X",
        "outputId": "04d3e9ac-f2ee-4fdb-abac-c178c0a749cd"
      },
      "execution_count": null,
      "outputs": [
        {
          "output_type": "stream",
          "name": "stdout",
          "text": [
            "Enter the value of n: 5\n",
            "The value of Euler's number with n = 5 is: 2.7166666666666663\n"
          ]
        }
      ]
    },
    {
      "cell_type": "markdown",
      "source": [
        "# 3. Write a Java program to generate all combination of 1, 2, or 3 using loop."
      ],
      "metadata": {
        "id": "n55C3NZ7Lqa4"
      }
    },
    {
      "cell_type": "code",
      "source": [
        "# 3. Write a Java program to generate all combination of 1, 2, or 3 using loop.\n",
        "\n",
        "def generate_combinations():\n",
        "    numbers = [1, 2, 3]\n",
        "\n",
        "    print(\"Combinations of length 1:\")\n",
        "    for num1 in numbers:\n",
        "        print(num1)\n",
        "\n",
        "    print(\"\\nCombinations of length 2:\")\n",
        "    for num1 in numbers:\n",
        "        for num2 in numbers:\n",
        "            print(f\"{num1}, {num2}\")\n",
        "\n",
        "    print(\"\\nCombinations of length 3:\")\n",
        "    for num1 in numbers:\n",
        "        for num2 in numbers:\n",
        "            for num3 in numbers:\n",
        "                print(f\"{num1}, {num2}, {num3}\")\n",
        "\n",
        "generate_combinations()\n"
      ],
      "metadata": {
        "colab": {
          "base_uri": "https://localhost:8080/"
        },
        "id": "E0OylVRaLwNN",
        "outputId": "974ed7e4-02cd-4f16-b2cc-42b54095c102"
      },
      "execution_count": null,
      "outputs": [
        {
          "output_type": "stream",
          "name": "stdout",
          "text": [
            "Combinations of length 1:\n",
            "1\n",
            "2\n",
            "3\n",
            "\n",
            "Combinations of length 2:\n",
            "1, 1\n",
            "1, 2\n",
            "1, 3\n",
            "2, 1\n",
            "2, 2\n",
            "2, 3\n",
            "3, 1\n",
            "3, 2\n",
            "3, 3\n",
            "\n",
            "Combinations of length 3:\n",
            "1, 1, 1\n",
            "1, 1, 2\n",
            "1, 1, 3\n",
            "1, 2, 1\n",
            "1, 2, 2\n",
            "1, 2, 3\n",
            "1, 3, 1\n",
            "1, 3, 2\n",
            "1, 3, 3\n",
            "2, 1, 1\n",
            "2, 1, 2\n",
            "2, 1, 3\n",
            "2, 2, 1\n",
            "2, 2, 2\n",
            "2, 2, 3\n",
            "2, 3, 1\n",
            "2, 3, 2\n",
            "2, 3, 3\n",
            "3, 1, 1\n",
            "3, 1, 2\n",
            "3, 1, 3\n",
            "3, 2, 1\n",
            "3, 2, 2\n",
            "3, 2, 3\n",
            "3, 3, 1\n",
            "3, 3, 2\n",
            "3, 3, 3\n"
          ]
        }
      ]
    },
    {
      "cell_type": "markdown",
      "source": [
        "# 4. Write a Java program to read two integer values m and n and to decide and print whether m is multiple of n."
      ],
      "metadata": {
        "id": "KAxfCKRDMOSY"
      }
    },
    {
      "cell_type": "code",
      "source": [
        "# Write a Java program to read two integer values m and n and to decide and print whether m is multiple of n.\n",
        "\n",
        "def is_multiple(m, n):\n",
        "    if m % n == 0:\n",
        "        print(f\"{m} is a multiple of {n}.\")\n",
        "    else:\n",
        "        print(f\"{m} is not a multiple of {n}.\")\n",
        "\n",
        "m,n = map(int, input(\"Enter two integers separated by spaces: \").split())\n",
        "is_multiple(m, n)"
      ],
      "metadata": {
        "colab": {
          "base_uri": "https://localhost:8080/"
        },
        "id": "Dxn66K7-MT2e",
        "outputId": "91fd0c61-8e1c-490f-bdc0-d0b47f54be4a"
      },
      "execution_count": null,
      "outputs": [
        {
          "output_type": "stream",
          "name": "stdout",
          "text": [
            "Enter two integers separated by spaces: 4 2\n",
            "4 is a multiple of 2.\n"
          ]
        }
      ]
    },
    {
      "cell_type": "markdown",
      "source": [
        "# 5. Write a Java program to display prime numbers between a given interval."
      ],
      "metadata": {
        "id": "5_0UkDMfMsNO"
      }
    },
    {
      "cell_type": "code",
      "source": [
        "# Write a Java program to display prime numbers between a given interval.\n",
        "\n",
        "def is_prime(num):\n",
        "    \"\"\"Check if a number is prime.\"\"\"\n",
        "    if num <= 1:\n",
        "        return False\n",
        "    if num == 2:\n",
        "        return True\n",
        "    if num % 2 == 0:\n",
        "        return False\n",
        "\n",
        "    for i in range(3, int(num**0.5) + 1, 2):\n",
        "        if num % i == 0:\n",
        "            return False\n",
        "    return True\n",
        "\n",
        "def main():\n",
        "    start = int(input(\"Enter the start of the interval: \"))\n",
        "    end = int(input(\"Enter the end of the interval: \"))\n",
        "\n",
        "    if start > end:\n",
        "        print(\"Invalid interval: start should be less than or equal to end.\")\n",
        "        return\n",
        "\n",
        "    print(f\"Prime numbers between {start} and {end}:\")\n",
        "    for num in range(start, end + 1):\n",
        "        if is_prime(num):\n",
        "            print(num)\n",
        "\n",
        "if __name__ == \"__main__\":\n",
        "    main()\n",
        "\n",
        "\n"
      ],
      "metadata": {
        "colab": {
          "base_uri": "https://localhost:8080/"
        },
        "id": "Te1JzF5BMwPT",
        "outputId": "e2cb02cf-3e29-4ae5-aba7-811c2df30617"
      },
      "execution_count": null,
      "outputs": [
        {
          "output_type": "stream",
          "name": "stdout",
          "text": [
            "Enter the start of the interval: 1\n",
            "Enter the end of the interval: 10\n",
            "Prime numbers between 1 and 10:\n",
            "2\n",
            "3\n",
            "5\n",
            "7\n"
          ]
        }
      ]
    },
    {
      "cell_type": "markdown",
      "source": [
        "# 6. Pattern\n",
        "```\n",
        "1\n",
        "2 3 4\n",
        "5 6 7 8 9\n",
        "```"
      ],
      "metadata": {
        "id": "ddv-3-uNNkXY"
      }
    },
    {
      "cell_type": "code",
      "source": [
        "def print_number_pattern():\n",
        "    start_number = 1\n",
        "\n",
        "    num_lines = 3\n",
        "\n",
        "    for i in range(num_lines):\n",
        "        for j in range(2 * i + 1):\n",
        "            print(start_number, end=' ')\n",
        "            start_number += 1\n",
        "        print()\n",
        "\n",
        "if __name__ == \"__main__\":\n",
        "    print_number_pattern()\n"
      ],
      "metadata": {
        "colab": {
          "base_uri": "https://localhost:8080/"
        },
        "id": "oqM0yLrrN7a0",
        "outputId": "1bf670e0-f5bf-4290-da40-b9c03488e7d3"
      },
      "execution_count": null,
      "outputs": [
        {
          "output_type": "stream",
          "name": "stdout",
          "text": [
            "1 \n",
            "2 3 4 \n",
            "5 6 7 8 9 \n"
          ]
        }
      ]
    },
    {
      "cell_type": "markdown",
      "source": [
        "# 7. Pattern 2\n",
        "```\n",
        "1\n",
        "2 1 2\n",
        "3 2 1 2 3\n",
        "4 3 2 1 2 3 4\n",
        "```"
      ],
      "metadata": {
        "id": "4aCXuWDROyDn"
      }
    },
    {
      "cell_type": "code",
      "source": [
        "def print_pyramid_pattern(rows):\n",
        "    for i in range(1, rows + 1):\n",
        "        print('  ' * (rows - i), end='')\n",
        "\n",
        "        for j in range(i, 0, -1):\n",
        "            print(j, end=' ')\n",
        "\n",
        "        for j in range(2, i + 1):\n",
        "            print(j, end=' ')\n",
        "        print()\n",
        "\n",
        "if __name__ == \"__main__\":\n",
        "    num_rows = 4\n",
        "    print_pyramid_pattern(num_rows)\n"
      ],
      "metadata": {
        "colab": {
          "base_uri": "https://localhost:8080/"
        },
        "id": "_5wl34QnO5Ah",
        "outputId": "f5bb9fd2-3fd7-4db7-cc65-3dab43f2eda4"
      },
      "execution_count": null,
      "outputs": [
        {
          "output_type": "stream",
          "name": "stdout",
          "text": [
            "      1 \n",
            "    2 1 2 \n",
            "  3 2 1 2 3 \n",
            "4 3 2 1 2 3 4 \n"
          ]
        }
      ]
    },
    {
      "cell_type": "markdown",
      "source": [
        "# 8. Pattern 3\n",
        "```\n",
        "1     1\n",
        " 2   2\n",
        "  3 3\n",
        "   4\n",
        "```"
      ],
      "metadata": {
        "id": "I2GHN-rNPjcS"
      }
    },
    {
      "cell_type": "code",
      "source": [
        "def print_pyramid_pattern(rows):\n",
        "    for i in range(1, rows + 1):\n",
        "        print(' ' * (i - 1), end='')\n",
        "        print(i, end='')\n",
        "        if i < rows:\n",
        "            print(' ' * (2 * (rows - i) - 1), end='')\n",
        "            print(i, end='')\n",
        "        print()\n",
        "\n",
        "if __name__ == \"__main__\":\n",
        "    num_rows = 4\n",
        "    print_pyramid_pattern(num_rows)\n",
        "\n",
        "\n"
      ],
      "metadata": {
        "colab": {
          "base_uri": "https://localhost:8080/"
        },
        "id": "Bv4CH1_gQCJc",
        "outputId": "6349b471-6853-41f5-c797-dad1e59028bb"
      },
      "execution_count": null,
      "outputs": [
        {
          "output_type": "stream",
          "name": "stdout",
          "text": [
            "1     1\n",
            " 2   2\n",
            "  3 3\n",
            "   4\n"
          ]
        }
      ]
    },
    {
      "cell_type": "markdown",
      "source": [
        "# 9. Write a Java program to calculate Sum & Average of an integer array."
      ],
      "metadata": {
        "id": "x-bE8MSrRFjU"
      }
    },
    {
      "cell_type": "code",
      "source": [
        "# Write a program to calculate Sum & Average of an integer array.\n",
        "\n",
        "def cal(numbers):\n",
        "    total_sum = sum(numbers)\n",
        "    if len(numbers) > 0:\n",
        "        average = total_sum / len(numbers)\n",
        "    else:\n",
        "        average = 0\n",
        "    return total_sum, average\n",
        "\n",
        "def main():\n",
        "    user_input = input(\"Enter integers separated by spaces: \")\n",
        "    numbers = list(map(int, user_input.split()))\n",
        "\n",
        "    total_sum, average = cal(numbers)\n",
        "\n",
        "    print(f\"Sum: {total_sum}\")\n",
        "    print(f\"Average: {average:.2f}\")\n",
        "\n",
        "if __name__ == \"__main__\":\n",
        "    main()\n"
      ],
      "metadata": {
        "colab": {
          "base_uri": "https://localhost:8080/"
        },
        "id": "Gl-pJc4WRMyl",
        "outputId": "b4112aab-1964-4731-c055-908f5ce99067"
      },
      "execution_count": null,
      "outputs": [
        {
          "output_type": "stream",
          "name": "stdout",
          "text": [
            "Enter integers separated by spaces: 5 6 7 8 9\n",
            "Sum: 35\n",
            "Average: 7.00\n"
          ]
        }
      ]
    },
    {
      "cell_type": "markdown",
      "source": [
        "# 10. Write a program to implement stack using array."
      ],
      "metadata": {
        "id": "pK0DbTQ3RuZ4"
      }
    },
    {
      "cell_type": "code",
      "source": [
        "# 2. Write a Java program to implement stack using array.\n",
        "\n",
        "class Stack:\n",
        "    def __init__(self):\n",
        "        self.stack = []\n",
        "\n",
        "    def push(self, item):\n",
        "        self.stack.append(item)\n",
        "        print(f\"Pushed {item} to the stack.\")\n",
        "\n",
        "    def pop(self):\n",
        "        if not self.is_empty():\n",
        "            item = self.stack.pop()\n",
        "            print(f\"Popped {item} from the stack.\")\n",
        "            return item\n",
        "        else:\n",
        "            print(\"Stack is empty. Cannot pop.\")\n",
        "            return None\n",
        "\n",
        "    def peek(self):\n",
        "        if not self.is_empty():\n",
        "            item = self.stack[-1]\n",
        "            print(f\"Top item is {item}.\")\n",
        "            return item\n",
        "        else:\n",
        "            print(\"Stack is empty. No top item.\")\n",
        "            return None\n",
        "\n",
        "    def is_empty(self):\n",
        "        return len(self.stack) == 0\n",
        "\n",
        "    def display(self):\n",
        "        if not self.is_empty():\n",
        "            print(\"Current stack:\", self.stack)\n",
        "        else:\n",
        "            print(\"Stack is empty.\")\n",
        "\n",
        "def main():\n",
        "    stack = Stack()\n",
        "\n",
        "    while True:\n",
        "        print(\"\\nStack Operations:\")\n",
        "        print(\"1. Push\")\n",
        "        print(\"2. Pop\")\n",
        "        print(\"3. Peek\")\n",
        "        print(\"4. Display\")\n",
        "        print(\"5. Exit\")\n",
        "\n",
        "        choice = input(\"Enter your choice (1-5): \")\n",
        "\n",
        "        if choice == '1':\n",
        "            item = input(\"Enter the item to push: \")\n",
        "            stack.push(item)\n",
        "        elif choice == '2':\n",
        "            stack.pop()\n",
        "        elif choice == '3':\n",
        "            stack.peek()\n",
        "        elif choice == '4':\n",
        "            stack.display()\n",
        "        elif choice == '5':\n",
        "            print(\"Exiting...\")\n",
        "            break\n",
        "        else:\n",
        "            print(\"Invalid choice. Please enter a number between 1 and 5.\")\n",
        "\n",
        "if __name__ == \"__main__\":\n",
        "    main()\n"
      ],
      "metadata": {
        "colab": {
          "base_uri": "https://localhost:8080/"
        },
        "id": "m8vea1xnR0jJ",
        "outputId": "34a9cd9a-12a2-4dba-d5fd-7f088894bd2b"
      },
      "execution_count": null,
      "outputs": [
        {
          "output_type": "stream",
          "name": "stdout",
          "text": [
            "\n",
            "Stack Operations:\n",
            "1. Push\n",
            "2. Pop\n",
            "3. Peek\n",
            "4. Display\n",
            "5. Exit\n",
            "Enter your choice (1-5): 1\n",
            "Enter the item to push: 5\n",
            "Pushed 5 to the stack.\n",
            "\n",
            "Stack Operations:\n",
            "1. Push\n",
            "2. Pop\n",
            "3. Peek\n",
            "4. Display\n",
            "5. Exit\n",
            "Enter your choice (1-5): 3\n",
            "Top item is 5.\n",
            "\n",
            "Stack Operations:\n",
            "1. Push\n",
            "2. Pop\n",
            "3. Peek\n",
            "4. Display\n",
            "5. Exit\n",
            "Enter your choice (1-5): 4\n",
            "Current stack: ['5']\n",
            "\n",
            "Stack Operations:\n",
            "1. Push\n",
            "2. Pop\n",
            "3. Peek\n",
            "4. Display\n",
            "5. Exit\n",
            "Enter your choice (1-5): \n",
            "Invalid choice. Please enter a number between 1 and 5.\n",
            "\n",
            "Stack Operations:\n",
            "1. Push\n",
            "2. Pop\n",
            "3. Peek\n",
            "4. Display\n",
            "5. Exit\n",
            "Enter your choice (1-5): 2\n",
            "Popped 5 from the stack.\n",
            "\n",
            "Stack Operations:\n",
            "1. Push\n",
            "2. Pop\n",
            "3. Peek\n",
            "4. Display\n",
            "5. Exit\n",
            "Enter your choice (1-5): 4\n",
            "Stack is empty.\n",
            "\n",
            "Stack Operations:\n",
            "1. Push\n",
            "2. Pop\n",
            "3. Peek\n",
            "4. Display\n",
            "5. Exit\n",
            "Enter your choice (1-5): \n",
            "Invalid choice. Please enter a number between 1 and 5.\n",
            "\n",
            "Stack Operations:\n",
            "1. Push\n",
            "2. Pop\n",
            "3. Peek\n",
            "4. Display\n",
            "5. Exit\n",
            "Enter your choice (1-5): 5\n",
            "Exiting...\n"
          ]
        }
      ]
    }
  ]
}